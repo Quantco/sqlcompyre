{
 "cells": [
  {
   "attachments": {},
   "cell_type": "markdown",
   "id": "0",
   "metadata": {},
   "source": [
    "# Example usage of `sqlcompyre`\n",
    "\n",
    "This notebook will demonstrate and explain some example usage of the `sqlcompyre` tool."
   ]
  },
  {
   "cell_type": "code",
   "execution_count": null,
   "id": "1",
   "metadata": {},
   "outputs": [],
   "source": [
    "import sqlalchemy as sa\n",
    "import pandas as pd\n",
    "import copy\n",
    "import sqlcompyre as sc"
   ]
  },
  {
   "attachments": {},
   "cell_type": "markdown",
   "id": "2",
   "metadata": {},
   "source": [
    "## Creating Tables\n",
    "\n",
    "Here we set up a connection using sqlite and create a few test tables to compare. In most use cases, the tables being compared will already exist, so the next cell can be ignored"
   ]
  },
  {
   "cell_type": "code",
   "execution_count": null,
   "id": "3",
   "metadata": {},
   "outputs": [],
   "source": [
    "eng = sa.create_engine('sqlite:///example.sqlite3')\n",
    "base_students = [\n",
    "    {\"id\": 1, \"name\": \"Connor\", \"age\": 22, \"gpa\": 2.57},\n",
    "    {\"id\": 2, \"name\": \"Sophie\", \"age\": 20, \"gpa\": 3.45},\n",
    "    {\"id\": 3, \"name\": \"Sam\", \"age\": 17, \"gpa\": 3.55},\n",
    "    {\"id\": 4, \"name\": \"Chris\", \"age\": 51, \"gpa\": 3.88},\n",
    "    {\"id\": 5, \"name\": \"Sydney\", \"age\": 52, \"gpa\": 3.95},\n",
    "    {\"id\": 6, \"name\": \"Kevin\", \"age\": 19, \"gpa\": 3.85},\n",
    "    {\"id\": 7, \"name\": \"Chris\", \"age\": 22, \"gpa\": 3.62},\n",
    "    {\"id\": 8, \"name\": \"Alyssa\", \"age\": 23, \"gpa\": 3.97},\n",
    "    {\"id\": 9, \"name\": \"Ostap\", \"age\": 21, \"gpa\": 3.04},\n",
    "    {\"id\": 10, \"name\": \"Rokas\", \"age\": 20, \"gpa\": 3.25},\n",
    "]\n",
    "\n",
    "students_1 = base_students[:-1]\n",
    "\n",
    "students_2 = copy.deepcopy(base_students)[2:]\n",
    "students_2[1][\"name\"] = \"Christopher\"\n",
    "students_2[4][\"name\"] = \"Christopher\"\n",
    "students_2[2][\"name\"] = \"Syd\"\n",
    "students_2[4][\"age\"] = 52\n",
    "\n",
    "column_mapping = {\n",
    "    \"id\": \"identification\",\n",
    "    \"name\": \"label\",\n",
    "    \"age\": \"wisdom\",\n",
    "    \"gpa\":  \"score\"\n",
    "}\n",
    "students_2 = [\n",
    "    {column_mapping[key]: value for key, value in student.items()}\n",
    "    for student in students_2\n",
    "]\n",
    "\n",
    "df1 = pd.DataFrame(students_1)\n",
    "df1.to_sql(\"students1\", eng, if_exists=\"replace\", index=False)\n",
    "\n",
    "df2 = pd.DataFrame(students_2)\n",
    "df2.to_sql(\"students2\", eng, if_exists=\"replace\", index=False)"
   ]
  },
  {
   "attachments": {},
   "cell_type": "markdown",
   "id": "4",
   "metadata": {},
   "source": [
    "## Connecting to a Database and Finding Tables\n",
    "\n",
    "Next, we use SQLAlchemy to connect to our database and find our tables."
   ]
  },
  {
   "cell_type": "code",
   "execution_count": null,
   "id": "5",
   "metadata": {},
   "outputs": [],
   "source": [
    "engine = sa.create_engine('sqlite:///example.sqlite3')\n",
    "meta = sa.MetaData()\n",
    "meta.reflect(bind=engine)\n",
    "\n",
    "table1 = meta.tables[\"students1\"]\n",
    "table2 = meta.tables[\"students2\"]"
   ]
  },
  {
   "cell_type": "code",
   "execution_count": null,
   "id": "6",
   "metadata": {},
   "outputs": [],
   "source": [
    "df1 = pd.read_sql(sa.select(table1), engine)\n",
    "df1"
   ]
  },
  {
   "cell_type": "code",
   "execution_count": null,
   "id": "7",
   "metadata": {},
   "outputs": [],
   "source": [
    "df2 = pd.read_sql(sa.select(table2), engine)\n",
    "df2"
   ]
  },
  {
   "attachments": {},
   "cell_type": "markdown",
   "id": "8",
   "metadata": {},
   "source": [
    "## Creating a TableComparison Object\n",
    "\n",
    "To begin compare tables, we simply call `compare_tables` which uses the engine we created before in order to access any database objects. In the simplest case, this method call merely takes the names of the two tables to compare. However, in our case, we also have to specify a column to join the tables on (`join_columns`) and a mapping between column names (`column_name_mapping`).\n",
    "\n",
    "The `compare_tables` method returns a `TableComparison` object which we will work with in the following."
   ]
  },
  {
   "cell_type": "code",
   "execution_count": null,
   "id": "9",
   "metadata": {},
   "outputs": [],
   "source": [
    "compare_1_2 = sc.compare_tables(\n",
    "    engine, table1, table2, join_columns=[\"id\"], column_name_mapping={\n",
    "        \"id\": \"identification\",\n",
    "        \"name\": \"label\",\n",
    "        \"age\": \"wisdom\",\n",
    "        \"gpa\": \"score\"\n",
    "    }\n",
    ")\n",
    "print(compare_1_2)"
   ]
  },
  {
   "attachments": {},
   "cell_type": "markdown",
   "id": "10",
   "metadata": {},
   "source": [
    "## Generating Reports\n",
    "\n",
    "Often the first thing we will want to do with a `TableComparison` is to generate a report to get an idea of what the key differences between the compared tables are. A simple report could look like the following:"
   ]
  },
  {
   "cell_type": "code",
   "execution_count": null,
   "id": "11",
   "metadata": {},
   "outputs": [],
   "source": [
    "compare_1_2.summary_report()"
   ]
  },
  {
   "attachments": {},
   "cell_type": "markdown",
   "id": "12",
   "metadata": {},
   "source": [
    "## Exploring Returned Data\n",
    "\n",
    "After looking at the report, we may wish to explore some of the values in more detail, or use them programmatically. Some values, such as row counts and column names, are already accessible:"
   ]
  },
  {
   "cell_type": "code",
   "execution_count": null,
   "id": "13",
   "metadata": {},
   "outputs": [],
   "source": [
    "n_columns_left = compare_1_2.row_counts.left\n",
    "print(f\"{n_columns_left} columns in the left table\")\n",
    "\n",
    "n_rows_unjoined_left = compare_1_2.row_matches.n_unjoined_left\n",
    "print(f\"{n_rows_unjoined_left} columns in the left table could not be inner-joined\")"
   ]
  },
  {
   "attachments": {},
   "cell_type": "markdown",
   "id": "14",
   "metadata": {},
   "source": [
    "Additionally, some SQLAlchemy queries are stored in these objects that we can use to explore the data in more depth. Since these queries have not yet been executed, we can add on to them!"
   ]
  },
  {
   "cell_type": "code",
   "execution_count": null,
   "id": "15",
   "metadata": {},
   "outputs": [],
   "source": [
    "unjoined_left = compare_1_2.row_matches.unjoined_left\n",
    "print(unjoined_left)\n",
    "\n",
    "# We can use our engine to execute these queries!\n",
    "unjoined_left_df = pd.read_sql(unjoined_left, engine)\n",
    "print(unjoined_left_df)"
   ]
  },
  {
   "attachments": {},
   "cell_type": "markdown",
   "id": "16",
   "metadata": {},
   "source": [
    "As an example of adding to these queries, let's limit the number of rows we query for to 1"
   ]
  },
  {
   "cell_type": "code",
   "execution_count": null,
   "id": "17",
   "metadata": {},
   "outputs": [],
   "source": [
    "unjoined_left_limited = unjoined_left.limit(1)\n",
    "\n",
    "print(\"Unjoined Left Query (Limited):\")\n",
    "print(unjoined_left_limited)\n",
    "\n",
    "# We can use our engine to execute these queries!\n",
    "unjoined_left_df = pd.read_sql(unjoined_left_limited, engine)\n",
    "print(\"\\nUnjoined Left Query Result (Limited):\")\n",
    "print(unjoined_left_df)"
   ]
  },
  {
   "attachments": {},
   "cell_type": "markdown",
   "id": "18",
   "metadata": {},
   "source": [
    "Finally, we can use the function `get_top_changes` to access the most common changes in each column:"
   ]
  },
  {
   "cell_type": "code",
   "execution_count": null,
   "id": "19",
   "metadata": {},
   "outputs": [],
   "source": [
    "compare_1_2.get_top_changes(\"name\")"
   ]
  },
  {
   "attachments": {},
   "cell_type": "markdown",
   "id": "20",
   "metadata": {},
   "source": [
    "Now you should be ready to get started on your own!"
   ]
  }
 ],
 "metadata": {
  "kernelspec": {
   "display_name": "Python 3.10.6 ('sql_compyre')",
   "language": "python",
   "name": "python3"
  },
  "language_info": {
   "codemirror_mode": {
    "name": "ipython",
    "version": 3
   },
   "file_extension": ".py",
   "mimetype": "text/x-python",
   "name": "python",
   "nbconvert_exporter": "python",
   "pygments_lexer": "ipython3",
   "version": "3.11.8"
  },
  "vscode": {
   "interpreter": {
    "hash": "e6ac11506aa7b240261da7b1dfe839f78eb64718545d829be7ecb544d6b50f2c"
   }
  }
 },
 "nbformat": 4,
 "nbformat_minor": 5
}
